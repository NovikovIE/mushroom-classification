{
 "cells": [
  {
   "cell_type": "code",
   "execution_count": null,
   "id": "688cee95",
   "metadata": {},
   "outputs": [],
   "source": [
    "import io\n",
    "\n",
    "import numpy as np\n",
    "import torch\n",
    "import tritonclient.http as httpclient\n",
    "from PIL import Image"
   ]
  },
  {
   "cell_type": "code",
   "execution_count": null,
   "id": "146221c1",
   "metadata": {},
   "outputs": [],
   "source": [
    "def inference_with_random_torch_image():\n",
    "    client = httpclient.InferenceServerClient(url=\"localhost:8900\")\n",
    "\n",
    "    image_shape = (224, 224, 3)\n",
    "\n",
    "    print(f\"Creating random torch tensor with shape: {image_shape}\")\n",
    "    torch_image = torch.rand(image_shape, dtype=torch.float32)\n",
    "\n",
    "    image_np = (torch_image * 255).byte().numpy().astype(np.uint8)\n",
    "    pil_image = Image.fromarray(image_np)\n",
    "    buffer = io.BytesIO()\n",
    "    pil_image.save(buffer, format=\"JPEG\")\n",
    "    image_bytes = buffer.getvalue()\n",
    "    image_input = np.frombuffer(image_bytes, dtype=np.uint8)\n",
    "\n",
    "    print(f\"Input image byte length: {image_input.shape[0]}\")\n",
    "    print(f\"Data type: {image_input.dtype}\")\n",
    "    print(f\"Value range: [{image_input.min()}, {image_input.max()}]\")\n",
    "\n",
    "    try:\n",
    "        inputs = []\n",
    "        batch_size = 1\n",
    "        batched_input = image_input.reshape(1, -1)\n",
    "\n",
    "        inputs.append(httpclient.InferInput(\"raw_image\", batched_input.shape, \"UINT8\"))\n",
    "        inputs[0].set_data_from_numpy(batched_input)\n",
    "\n",
    "        outputs = []\n",
    "        outputs.append(httpclient.InferRequestedOutput(\"predictions\"))\n",
    "\n",
    "        print(f\"Input shape being sent: {batched_input.shape}\")\n",
    "        print(f\"Batch size: {batch_size}\")\n",
    "        print(\"Running inference...\")\n",
    "\n",
    "        response = client.infer(model_name=\"ensemble_trt\", inputs=inputs, outputs=outputs)\n",
    "\n",
    "        predictions = response.as_numpy(\"predictions\")\n",
    "\n",
    "        print(f\"Predictions shape: {predictions.shape}\")\n",
    "        print(f\"Predictions dtype: {predictions.dtype}\")\n",
    "        print(f\"First 10 predictions: {predictions.flatten()[:10]}\")\n",
    "        print(f\"Last 10 predictions: {predictions.flatten()[-10:]}\")\n",
    "\n",
    "        return predictions\n",
    "\n",
    "    except Exception as e:\n",
    "        print(f\"Inference failed: {e}\")\n",
    "        return None"
   ]
  },
  {
   "cell_type": "code",
   "execution_count": 51,
   "id": "0f1dcac0",
   "metadata": {},
   "outputs": [
    {
     "name": "stdout",
     "output_type": "stream",
     "text": [
      "Creating random torch tensor with shape: (224, 224, 3)\n",
      "Input image byte length: 30743\n",
      "Data type: uint8\n",
      "Value range: [0, 255]\n",
      "Input shape being sent: (1, 30743)\n",
      "Batch size: 1\n",
      "Running inference...\n",
      "Predictions shape: (1, 589)\n",
      "Predictions dtype: float32\n",
      "First 10 predictions: [-0.06658936 -0.01670837  0.02011108 -0.13464355 -0.05551147  0.00735474\n",
      "  0.00852966 -0.02246094  0.05340576 -0.08770752]\n",
      "Last 10 predictions: [ 0.07836914  0.07098389  0.16088867 -0.10070801  0.01976013 -0.03790283\n",
      " -0.01708984 -0.06860352  0.07781982  0.00190735]\n"
     ]
    }
   ],
   "source": [
    "probs = inference_with_random_torch_image()"
   ]
  },
  {
   "cell_type": "code",
   "execution_count": 52,
   "id": "cd1de02d",
   "metadata": {},
   "outputs": [
    {
     "data": {
      "text/plain": [
       "array([360])"
      ]
     },
     "execution_count": 52,
     "metadata": {},
     "output_type": "execute_result"
    }
   ],
   "source": [
    "probs.argmax(-1)"
   ]
  }
 ],
 "metadata": {
  "kernelspec": {
   "display_name": "mushroom",
   "language": "python",
   "name": "python3"
  },
  "language_info": {
   "codemirror_mode": {
    "name": "ipython",
    "version": 3
   },
   "file_extension": ".py",
   "mimetype": "text/x-python",
   "name": "python",
   "nbconvert_exporter": "python",
   "pygments_lexer": "ipython3",
   "version": "3.10.12"
  }
 },
 "nbformat": 4,
 "nbformat_minor": 5
}
